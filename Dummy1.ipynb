{
  "nbformat": 4,
  "nbformat_minor": 0,
  "metadata": {
    "colab": {
      "name": "Dummy1.ipynb",
      "provenance": [],
      "collapsed_sections": []
    },
    "kernelspec": {
      "name": "python3",
      "display_name": "Python 3"
    },
    "language_info": {
      "name": "python"
    }
  },
  "cells": [
    {
      "cell_type": "markdown",
      "metadata": {
        "id": "jWz7To9USRAg"
      },
      "source": [
        "# Importing libraries"
      ]
    },
    {
      "cell_type": "code",
      "metadata": {
        "id": "VkxdNUyi7ySQ"
      },
      "source": [
        "import matplotlib.pyplot as plt\n",
        "import seaborn as sns\n",
        "import numpy as np\n",
        "import pandas as pd\n"
      ],
      "execution_count": null,
      "outputs": []
    },
    {
      "cell_type": "markdown",
      "metadata": {
        "id": "idL9sSl1SdNr"
      },
      "source": [
        "# Importing Dataset"
      ]
    },
    {
      "cell_type": "code",
      "metadata": {
        "id": "Bku98Z7_79bn"
      },
      "source": [
        "dataset=pd.read_csv('train.csv')"
      ],
      "execution_count": null,
      "outputs": []
    },
    {
      "cell_type": "code",
      "metadata": {
        "colab": {
          "base_uri": "https://localhost:8080/",
          "height": 198
        },
        "id": "VFYdWsz0SvNp",
        "outputId": "f7aff42c-dcbf-486e-e1cf-57756c71bae8"
      },
      "source": [
        "dataset.head()"
      ],
      "execution_count": null,
      "outputs": [
        {
          "output_type": "execute_result",
          "data": {
            "text/html": [
              "<div>\n",
              "<style scoped>\n",
              "    .dataframe tbody tr th:only-of-type {\n",
              "        vertical-align: middle;\n",
              "    }\n",
              "\n",
              "    .dataframe tbody tr th {\n",
              "        vertical-align: top;\n",
              "    }\n",
              "\n",
              "    .dataframe thead th {\n",
              "        text-align: right;\n",
              "    }\n",
              "</style>\n",
              "<table border=\"1\" class=\"dataframe\">\n",
              "  <thead>\n",
              "    <tr style=\"text-align: right;\">\n",
              "      <th></th>\n",
              "      <th>x</th>\n",
              "      <th>y</th>\n",
              "    </tr>\n",
              "  </thead>\n",
              "  <tbody>\n",
              "    <tr>\n",
              "      <th>0</th>\n",
              "      <td>24.0</td>\n",
              "      <td>21.549452</td>\n",
              "    </tr>\n",
              "    <tr>\n",
              "      <th>1</th>\n",
              "      <td>50.0</td>\n",
              "      <td>47.464463</td>\n",
              "    </tr>\n",
              "    <tr>\n",
              "      <th>2</th>\n",
              "      <td>15.0</td>\n",
              "      <td>17.218656</td>\n",
              "    </tr>\n",
              "    <tr>\n",
              "      <th>3</th>\n",
              "      <td>38.0</td>\n",
              "      <td>36.586398</td>\n",
              "    </tr>\n",
              "    <tr>\n",
              "      <th>4</th>\n",
              "      <td>87.0</td>\n",
              "      <td>87.288984</td>\n",
              "    </tr>\n",
              "  </tbody>\n",
              "</table>\n",
              "</div>"
            ],
            "text/plain": [
              "      x          y\n",
              "0  24.0  21.549452\n",
              "1  50.0  47.464463\n",
              "2  15.0  17.218656\n",
              "3  38.0  36.586398\n",
              "4  87.0  87.288984"
            ]
          },
          "metadata": {
            "tags": []
          },
          "execution_count": 4
        }
      ]
    },
    {
      "cell_type": "code",
      "metadata": {
        "colab": {
          "base_uri": "https://localhost:8080/"
        },
        "id": "esWwrQ2xSz4g",
        "outputId": "83d50354-65a2-403f-9344-84a14ee2e4a6"
      },
      "source": [
        "dataset.isnull().sum()"
      ],
      "execution_count": null,
      "outputs": [
        {
          "output_type": "execute_result",
          "data": {
            "text/plain": [
              "x    0\n",
              "y    1\n",
              "dtype: int64"
            ]
          },
          "metadata": {
            "tags": []
          },
          "execution_count": 5
        }
      ]
    },
    {
      "cell_type": "code",
      "metadata": {
        "id": "CHaTZZ3NS50L"
      },
      "source": [
        "dataset=dataset.dropna()"
      ],
      "execution_count": null,
      "outputs": []
    },
    {
      "cell_type": "code",
      "metadata": {
        "colab": {
          "base_uri": "https://localhost:8080/"
        },
        "id": "kvb7vvAaS-AI",
        "outputId": "b82ffb65-af04-4722-ef1d-228ffce5d93c"
      },
      "source": [
        "dataset.shape"
      ],
      "execution_count": null,
      "outputs": [
        {
          "output_type": "execute_result",
          "data": {
            "text/plain": [
              "(699, 2)"
            ]
          },
          "metadata": {
            "tags": []
          },
          "execution_count": 43
        }
      ]
    },
    {
      "cell_type": "markdown",
      "metadata": {
        "id": "Tv1CPrNATcIH"
      },
      "source": [
        "# Visualizing relationship\n"
      ]
    },
    {
      "cell_type": "code",
      "metadata": {
        "colab": {
          "base_uri": "https://localhost:8080/",
          "height": 858
        },
        "id": "JSRMw3p9Ttn6",
        "outputId": "59a4f51a-479e-4d33-9bd3-e84612332615"
      },
      "source": [
        "plt.scatter(x='x',y='y',data=dataset)\n",
        "plt.figure(figsize=(10,10))\n",
        "plt.xlabel('X')\n",
        "plt.ylabel('Y')\n",
        "plt.show()"
      ],
      "execution_count": null,
      "outputs": [
        {
          "output_type": "display_data",
          "data": {
            "image/png": "[encoded data removed]",
            "text/plain": [
              "<Figure size 432x288 with 1 Axes>"
            ]
          },
          "metadata": {
            "tags": []
          }
        },
        {
          "output_type": "display_data",
          "data": {
            "image/png": "[encoded data removed]",
            "text/plain": [
              "<Figure size 720x720 with 1 Axes>"
            ]
          },
          "metadata": {
            "tags": []
          }
        }
      ]
    },
    {
      "cell_type": "markdown",
      "metadata": {
        "id": "DKNhweLVX5lS"
      },
      "source": [
        "# Splitting dataset into train and test"
      ]
    },
    {
      "cell_type": "code",
      "metadata": {
        "id": "TftLkz3yYazQ"
      },
      "source": [
        "Train= dataset[:500]\n",
        "Test=dataset[500:]"
      ],
      "execution_count": null,
      "outputs": []
    },
    {
      "cell_type": "code",
      "metadata": {
        "colab": {
          "base_uri": "https://localhost:8080/"
        },
        "id": "5luaqHDweCTo",
        "outputId": "05836400-f68e-4bb3-8c9c-e4a0d764886e"
      },
      "source": [
        "Train.shape"
      ],
      "execution_count": null,
      "outputs": [
        {
          "output_type": "execute_result",
          "data": {
            "text/plain": [
              "(500, 2)"
            ]
          },
          "metadata": {
            "tags": []
          },
          "execution_count": 45
        }
      ]
    },
    {
      "cell_type": "code",
      "metadata": {
        "colab": {
          "base_uri": "https://localhost:8080/"
        },
        "id": "BeSlq0l_eLut",
        "outputId": "a947ef93-209d-4a44-81e2-c6d36950225a"
      },
      "source": [
        "Test.shape"
      ],
      "execution_count": null,
      "outputs": [
        {
          "output_type": "execute_result",
          "data": {
            "text/plain": [
              "(199, 2)"
            ]
          },
          "metadata": {
            "tags": []
          },
          "execution_count": 46
        }
      ]
    },
    {
      "cell_type": "code",
      "metadata": {
        "id": "U0MABqGPZBVp"
      },
      "source": [
        "# Assigning x and y variable for both train and test\n",
        "X_train=np.array(Train['x'])\n",
        "X_test=np.array(Test['x'])"
      ],
      "execution_count": null,
      "outputs": []
    },
    {
      "cell_type": "code",
      "metadata": {
        "id": "gHo_Yx1hZX3Q"
      },
      "source": [
        "y_train=np.array(Train['y'])\n",
        "y_test=np.array(Test['y'])"
      ],
      "execution_count": null,
      "outputs": []
    },
    {
      "cell_type": "code",
      "metadata": {
        "colab": {
          "base_uri": "https://localhost:8080/"
        },
        "id": "KWNyfPgRex6u",
        "outputId": "e094db8d-ddbe-4023-f631-cc9943e09860"
      },
      "source": [
        "# to check the dimension of X_test and X_train\n",
        "X_train.ndim"
      ],
      "execution_count": null,
      "outputs": [
        {
          "output_type": "execute_result",
          "data": {
            "text/plain": [
              "1"
            ]
          },
          "metadata": {
            "tags": []
          },
          "execution_count": 49
        }
      ]
    },
    {
      "cell_type": "code",
      "metadata": {
        "colab": {
          "base_uri": "https://localhost:8080/"
        },
        "id": "ugRDTs-fe9FP",
        "outputId": "d00407d0-587d-4fbc-cbf3-c92e8af95dd3"
      },
      "source": [
        "X_test.ndim"
      ],
      "execution_count": null,
      "outputs": [
        {
          "output_type": "execute_result",
          "data": {
            "text/plain": [
              "1"
            ]
          },
          "metadata": {
            "tags": []
          },
          "execution_count": 50
        }
      ]
    },
    {
      "cell_type": "code",
      "metadata": {
        "id": "Z40uBE7MfGz2"
      },
      "source": [
        "# to convert from 1D to a 2D array\n",
        "X_train=X_train.reshape(-1,1)\n",
        "X_test=X_test.reshape(-1,1)"
      ],
      "execution_count": null,
      "outputs": []
    },
    {
      "cell_type": "code",
      "metadata": {
        "colab": {
          "base_uri": "https://localhost:8080/"
        },
        "id": "SQw1SwQMfY7z",
        "outputId": "6f97a1d9-cac2-4179-f201-04bcbb771b0c"
      },
      "source": [
        "X_train.ndim"
      ],
      "execution_count": null,
      "outputs": [
        {
          "output_type": "execute_result",
          "data": {
            "text/plain": [
              "2"
            ]
          },
          "metadata": {
            "tags": []
          },
          "execution_count": 52
        }
      ]
    },
    {
      "cell_type": "markdown",
      "metadata": {
        "id": "YzaAdh4QlDpV"
      },
      "source": [
        "# Building and training the model"
      ]
    },
    {
      "cell_type": "code",
      "metadata": {
        "id": "tThKV4bvfcY3"
      },
      "source": [
        "from sklearn.linear_model import LinearRegression\n",
        "regressor=LinearRegression()"
      ],
      "execution_count": null,
      "outputs": []
    },
    {
      "cell_type": "code",
      "metadata": {
        "colab": {
          "base_uri": "https://localhost:8080/"
        },
        "id": "Ym0qWNjxjTLz",
        "outputId": "42bb1a61-5206-44cc-c3b1-863f6f37d1c5"
      },
      "source": [
        "regressor.fit(X_train, y_train)"
      ],
      "execution_count": null,
      "outputs": [
        {
          "output_type": "execute_result",
          "data": {
            "text/plain": [
              "LinearRegression(copy_X=True, fit_intercept=True, n_jobs=None, normalize=False)"
            ]
          },
          "metadata": {
            "tags": []
          },
          "execution_count": 54
        }
      ]
    },
    {
      "cell_type": "code",
      "metadata": {
        "id": "UWLxIXjvjrJI"
      },
      "source": [
        "y_pred=regressor.predict(X_test)"
      ],
      "execution_count": null,
      "outputs": []
    },
    {
      "cell_type": "code",
      "metadata": {
        "colab": {
          "base_uri": "https://localhost:8080/"
        },
        "id": "_BEROJq3kFW1",
        "outputId": "d617e8b6-2555-421e-dd9d-d6013974482c"
      },
      "source": [
        "y_pred"
      ],
      "execution_count": null,
      "outputs": [
        {
          "output_type": "execute_result",
          "data": {
            "text/plain": [
              "array([ 4.76896187, 60.82492252, 46.81093236, 97.86189652, 29.7939443 ,\n",
              "       62.82692111, -0.23603461, 99.86389511, 17.78195274, 29.7939443 ,\n",
              "       97.86189652, 15.77995414, 21.78594992, 54.81892673, 42.80693517,\n",
              "       74.83891268, 90.85490143, 45.80993306, 84.84890565, 54.81892673,\n",
              "       35.79994009, 48.81293095, 93.85789933, 42.80693517, 21.78594992,\n",
              "       36.80093938, 23.78794852, 94.85889862, 60.82492252, 74.83891268,\n",
              "       67.8319176 , 57.82192463,  4.76896187, 52.81692814, 79.84390916,\n",
              "       82.84690706, 24.78894782, 33.79794149, 25.78994711, 89.85390214,\n",
              "       59.82392322, 48.81293095, 18.78295203, 91.85590073, 28.79294501,\n",
              "        7.77195976, 56.82092533, 28.79294501, 18.78295203, 80.84490846,\n",
              "       49.81393025, 14.77895484, 69.83391619, 38.80293798, 42.80693517,\n",
              "       20.78495063, 97.86189652, 85.84990495, 15.77995414, 24.78894782,\n",
              "       30.7949436 , 92.85690003, 66.8309183 , 48.81293095, 24.78894782,\n",
              "       87.85190354, 53.81792744, 20.78495063,  7.77195976, 31.7959429 ,\n",
              "       34.79894079, 66.8309183 , 89.85390214, 58.82292392, 14.77895484,\n",
              "       66.8309183 , 41.80593587, 43.80793446, 76.84091127, 67.8319176 ,\n",
              "       35.79994009, 10.77495765,  9.77395836, 64.82891971, 97.86189652,\n",
              "       97.86189652, 48.81293095, 30.7949436 , 55.81992603, 69.83391619,\n",
              "       90.85490143, 24.78894782, 53.81792744, 38.80293798, 90.85490143,\n",
              "        2.76696328, 21.78594992,  1.76596398,  1.76596398, 64.82891971,\n",
              "       70.83491549, 41.80593587, 75.83991198, 42.80693517,  7.77195976,\n",
              "       85.84990495, 86.85090425,  2.76696328, 57.82192463, 61.82592181,\n",
              "       88.85290284, 94.85889862, 27.79194571, -0.23603461,  0.76496468,\n",
              "       48.81293095, 20.78495063, 45.80993306, 10.77495765, 88.85290284,\n",
              "       36.80093938, 28.79294501, 43.80793446, 95.85989792, 15.77995414,\n",
              "       73.83791338, 34.79894079, 41.80593587, 15.77995414, 55.81992603,\n",
              "       17.78195274, 99.86389511, 53.81792744, 91.85590073, 62.82692111,\n",
              "       80.84490846, 72.83691408, 47.81193165,  0.76496468, 84.84890565,\n",
              "       13.77795555, 24.78894782, 44.80893376, 97.86189652, 96.86089722,\n",
              "       57.82192463, 92.85690003, 87.85190354, 88.85290284, 46.81093236,\n",
              "        5.76996117, 33.79794149, 29.7939443 , 15.77995414, 85.84990495,\n",
              "       39.80393727, 51.81592884, 14.77895484,  3.76796257, 94.85889862,\n",
              "       98.86289581, 34.79894079, 57.82192463,  9.77395836, 15.77995414,\n",
              "       52.81692814, 57.82192463, 41.80593587, 23.78794852, 83.84790635,\n",
              "       63.82792041, 11.77595695, 60.82492252, 74.83891268, 14.77895484,\n",
              "       99.86389511, 42.80693517, 12.77695625, 47.81193165, 44.80893376,\n",
              "       51.81592884, 33.79794149, 29.7939443 , 64.82891971, 99.86389511,\n",
              "       66.8309183 , 98.86289581, 44.80893376, 86.85090425, 72.83691408,\n",
              "        8.77295906, 80.84490846, 71.83591479, 80.84490846, 57.82192463,\n",
              "       92.85690003, 81.84590776, 65.829919  , 96.86089722])"
            ]
          },
          "metadata": {
            "tags": []
          },
          "execution_count": 57
        }
      ]
    },
    {
      "cell_type": "code",
      "metadata": {
        "colab": {
          "base_uri": "https://localhost:8080/"
        },
        "id": "nNRu4iJrkYtw",
        "outputId": "e0546f58-ba1c-438b-b2bb-1c47456f3ea5"
      },
      "source": [
        "regressor.coef_"
      ],
      "execution_count": null,
      "outputs": [
        {
          "output_type": "execute_result",
          "data": {
            "text/plain": [
              "array([1.0009993])"
            ]
          },
          "metadata": {
            "tags": []
          },
          "execution_count": 58
        }
      ]
    },
    {
      "cell_type": "code",
      "metadata": {
        "colab": {
          "base_uri": "https://localhost:8080/"
        },
        "id": "E7r0Dz8lkfAe",
        "outputId": "5fd1a614-be29-4ed3-f9ac-d8aab6f80a60"
      },
      "source": [
        "regressor.intercept_"
      ],
      "execution_count": null,
      "outputs": [
        {
          "output_type": "execute_result",
          "data": {
            "text/plain": [
              "-0.2360346148878989"
            ]
          },
          "metadata": {
            "tags": []
          },
          "execution_count": 60
        }
      ]
    },
    {
      "cell_type": "markdown",
      "metadata": {
        "id": "1k_0ZrUlkSXp"
      },
      "source": [
        "# To calculate the mean squared error"
      ]
    },
    {
      "cell_type": "code",
      "metadata": {
        "id": "EDqMguhBkeP2"
      },
      "source": [
        "error=y_test-y_pred"
      ],
      "execution_count": null,
      "outputs": []
    },
    {
      "cell_type": "code",
      "metadata": {
        "id": "MR44Z64IkPPU"
      },
      "source": [
        "error=error**2"
      ],
      "execution_count": null,
      "outputs": []
    },
    {
      "cell_type": "code",
      "metadata": {
        "colab": {
          "base_uri": "https://localhost:8080/"
        },
        "id": "CqmL3Zohk0UG",
        "outputId": "5ec95a8a-894b-4e15-d5a9-472384b3ed6b"
      },
      "source": [
        "error.mean()"
      ],
      "execution_count": null,
      "outputs": [
        {
          "output_type": "execute_result",
          "data": {
            "text/plain": [
              "8.030031591835376"
            ]
          },
          "metadata": {
            "tags": []
          },
          "execution_count": 63
        }
      ]
    },
    {
      "cell_type": "markdown",
      "metadata": {
        "id": "q_6sXdN4lGKK"
      },
      "source": [
        "# Model Validation"
      ]
    },
    {
      "cell_type": "code",
      "metadata": {
        "id": "DFcfZCzNk2QV"
      },
      "source": [
        "from sklearn.metrics import r2_score, mean_squared_error"
      ],
      "execution_count": null,
      "outputs": []
    },
    {
      "cell_type": "code",
      "metadata": {
        "colab": {
          "base_uri": "https://localhost:8080/"
        },
        "id": "5t6qaUEMlcdw",
        "outputId": "b65e3f66-b2a1-4b3a-9fd2-44d69f7fac3e"
      },
      "source": [
        "r2_score(y_test,y_pred)"
      ],
      "execution_count": null,
      "outputs": [
        {
          "output_type": "execute_result",
          "data": {
            "text/plain": [
              "0.9908545372287157"
            ]
          },
          "metadata": {
            "tags": []
          },
          "execution_count": 65
        }
      ]
    },
    {
      "cell_type": "code",
      "metadata": {
        "colab": {
          "base_uri": "https://localhost:8080/"
        },
        "id": "XH-uKJ6ili_8",
        "outputId": "4932b829-184c-4906-925e-affbdf6b9aaa"
      },
      "source": [
        "mean_squared_error(y_test,y_pred)"
      ],
      "execution_count": null,
      "outputs": [
        {
          "output_type": "execute_result",
          "data": {
            "text/plain": [
              "8.030031591835376"
            ]
          },
          "metadata": {
            "tags": []
          },
          "execution_count": 66
        }
      ]
    },
    {
      "cell_type": "markdown",
      "metadata": {
        "id": "sCqMJ1cJlyAO"
      },
      "source": [
        "# Plotting for Train result"
      ]
    },
    {
      "cell_type": "code",
      "metadata": {
        "colab": {
          "base_uri": "https://localhost:8080/",
          "height": 282
        },
        "id": "36DkGaFtlojV",
        "outputId": "64293e90-7564-4089-a72e-8d1b7e0a0f13"
      },
      "source": [
        "plt.scatter(X_train,y_train, color='blue')\n",
        "plt.plot(X_train,regressor.predict(X_train), color='red')"
      ],
      "execution_count": null,
      "outputs": [
        {
          "output_type": "execute_result",
          "data": {
            "text/plain": [
              "[<matplotlib.lines.Line2D at 0x7f88f0cfef90>]"
            ]
          },
          "metadata": {
            "tags": []
          },
          "execution_count": 68
        },
        {
          "output_type": "display_data",
          "data": {
            "image/png": "[encoded data removed]",
            "text/plain": [
              "<Figure size 432x288 with 1 Axes>"
            ]
          },
          "metadata": {
            "tags": []
          }
        }
      ]
    },
    {
      "cell_type": "markdown",
      "metadata": {
        "id": "025KizCKm6k8"
      },
      "source": [
        "# Plotting for Test result"
      ]
    },
    {
      "cell_type": "code",
      "metadata": {
        "colab": {
          "base_uri": "https://localhost:8080/",
          "height": 282
        },
        "id": "X-KQld9kmCTc",
        "outputId": "0e958fc2-1b27-4c88-9e4a-cb802cdc561d"
      },
      "source": [
        "plt.scatter(X_test,y_test, color='blue')\n",
        "plt.plot(X_train,regressor.predict(X_train), color='red')"
      ],
      "execution_count": null,
      "outputs": [
        {
          "output_type": "execute_result",
          "data": {
            "text/plain": [
              "[<matplotlib.lines.Line2D at 0x7f88eb44e890>]"
            ]
          },
          "metadata": {
            "tags": []
          },
          "execution_count": 69
        },
        {
          "output_type": "display_data",
          "data": {
            "image/png": "[encoded data removed]",
            "text/plain": [
              "<Figure size 432x288 with 1 Axes>"
            ]
          },
          "metadata": {
            "tags": []
          }
        }
      ]
    },
    {
      "cell_type": "markdown",
      "metadata": {
        "id": "V9VpniZfnPB9"
      },
      "source": [
        "# Testing on a new dataset"
      ]
    },
    {
      "cell_type": "code",
      "metadata": {
        "id": "IPe5-DkAnICj"
      },
      "source": [
        "lala= pd.read_csv('test.csv')"
      ],
      "execution_count": null,
      "outputs": []
    },
    {
      "cell_type": "code",
      "metadata": {
        "colab": {
          "base_uri": "https://localhost:8080/",
          "height": 195
        },
        "id": "ORgmkqkrnbgv",
        "outputId": "cd67b580-3fc7-4837-c5c2-6405aec01152"
      },
      "source": [
        "lala.head()"
      ],
      "execution_count": null,
      "outputs": [
        {
          "output_type": "execute_result",
          "data": {
            "text/html": [
              "<div>\n",
              "<style scoped>\n",
              "    .dataframe tbody tr th:only-of-type {\n",
              "        vertical-align: middle;\n",
              "    }\n",
              "\n",
              "    .dataframe tbody tr th {\n",
              "        vertical-align: top;\n",
              "    }\n",
              "\n",
              "    .dataframe thead th {\n",
              "        text-align: right;\n",
              "    }\n",
              "</style>\n",
              "<table border=\"1\" class=\"dataframe\">\n",
              "  <thead>\n",
              "    <tr style=\"text-align: right;\">\n",
              "      <th></th>\n",
              "      <th>x</th>\n",
              "      <th>y</th>\n",
              "    </tr>\n",
              "  </thead>\n",
              "  <tbody>\n",
              "    <tr>\n",
              "      <th>0</th>\n",
              "      <td>77</td>\n",
              "      <td>79.775152</td>\n",
              "    </tr>\n",
              "    <tr>\n",
              "      <th>1</th>\n",
              "      <td>21</td>\n",
              "      <td>23.177279</td>\n",
              "    </tr>\n",
              "    <tr>\n",
              "      <th>2</th>\n",
              "      <td>22</td>\n",
              "      <td>25.609262</td>\n",
              "    </tr>\n",
              "    <tr>\n",
              "      <th>3</th>\n",
              "      <td>20</td>\n",
              "      <td>17.857388</td>\n",
              "    </tr>\n",
              "    <tr>\n",
              "      <th>4</th>\n",
              "      <td>36</td>\n",
              "      <td>41.849864</td>\n",
              "    </tr>\n",
              "  </tbody>\n",
              "</table>\n",
              "</div>"
            ],
            "text/plain": [
              "    x          y\n",
              "0  77  79.775152\n",
              "1  21  23.177279\n",
              "2  22  25.609262\n",
              "3  20  17.857388\n",
              "4  36  41.849864"
            ]
          },
          "metadata": {
            "tags": []
          },
          "execution_count": 71
        }
      ]
    },
    {
      "cell_type": "code",
      "metadata": {
        "colab": {
          "base_uri": "https://localhost:8080/"
        },
        "id": "2ADlKZ34nd1b",
        "outputId": "635f2eb1-079a-4272-cfe6-3917036876d3"
      },
      "source": [
        "lala.shape"
      ],
      "execution_count": null,
      "outputs": [
        {
          "output_type": "execute_result",
          "data": {
            "text/plain": [
              "(300, 2)"
            ]
          },
          "metadata": {
            "tags": []
          },
          "execution_count": 72
        }
      ]
    },
    {
      "cell_type": "code",
      "metadata": {
        "id": "HxvNG3HNngON"
      },
      "source": [
        "test=np.array(lala['x'])\n",
        "original=np.array(lala['y'])"
      ],
      "execution_count": null,
      "outputs": []
    },
    {
      "cell_type": "code",
      "metadata": {
        "colab": {
          "base_uri": "https://localhost:8080/"
        },
        "id": "_4e0M7Dwn4uY",
        "outputId": "17dfe72a-8610-488a-bb4e-a039cd8af99c"
      },
      "source": [
        "test.ndim"
      ],
      "execution_count": null,
      "outputs": [
        {
          "output_type": "execute_result",
          "data": {
            "text/plain": [
              "1"
            ]
          },
          "metadata": {
            "tags": []
          },
          "execution_count": 80
        }
      ]
    },
    {
      "cell_type": "code",
      "metadata": {
        "id": "UPaJsrYQn6gu"
      },
      "source": [
        "test=test.reshape(-1,1)\n"
      ],
      "execution_count": null,
      "outputs": []
    },
    {
      "cell_type": "code",
      "metadata": {
        "colab": {
          "base_uri": "https://localhost:8080/"
        },
        "id": "YnWTLOlRoAcd",
        "outputId": "819240d5-20d6-412b-cb7b-72e4f4c769e9"
      },
      "source": [
        "test.ndim"
      ],
      "execution_count": null,
      "outputs": [
        {
          "output_type": "execute_result",
          "data": {
            "text/plain": [
              "2"
            ]
          },
          "metadata": {
            "tags": []
          },
          "execution_count": 82
        }
      ]
    },
    {
      "cell_type": "markdown",
      "metadata": {
        "id": "NT87k_ZCq4pf"
      },
      "source": [
        "# Comparing result of original and predicted"
      ]
    },
    {
      "cell_type": "code",
      "metadata": {
        "id": "vhMOwj7eo2HR"
      },
      "source": [
        "prediction=regressor.predict(test)"
      ],
      "execution_count": null,
      "outputs": []
    },
    {
      "cell_type": "code",
      "metadata": {
        "id": "7k8ubv4FpLdr"
      },
      "source": [
        "result=pd.DataFrame([prediction,original])"
      ],
      "execution_count": null,
      "outputs": []
    },
    {
      "cell_type": "code",
      "metadata": {
        "colab": {
          "base_uri": "https://localhost:8080/",
          "height": 402
        },
        "id": "MvvCiDq0pa-J",
        "outputId": "b9ee86e8-4bde-4adc-eb16-5712c80abf2f"
      },
      "source": [
        "result.transpose()"
      ],
      "execution_count": null,
      "outputs": [
        {
          "output_type": "execute_result",
          "data": {
            "text/html": [
              "<div>\n",
              "<style scoped>\n",
              "    .dataframe tbody tr th:only-of-type {\n",
              "        vertical-align: middle;\n",
              "    }\n",
              "\n",
              "    .dataframe tbody tr th {\n",
              "        vertical-align: top;\n",
              "    }\n",
              "\n",
              "    .dataframe thead th {\n",
              "        text-align: right;\n",
              "    }\n",
              "</style>\n",
              "<table border=\"1\" class=\"dataframe\">\n",
              "  <thead>\n",
              "    <tr style=\"text-align: right;\">\n",
              "      <th></th>\n",
              "      <th>0</th>\n",
              "      <th>1</th>\n",
              "    </tr>\n",
              "  </thead>\n",
              "  <tbody>\n",
              "    <tr>\n",
              "      <th>0</th>\n",
              "      <td>76.840911</td>\n",
              "      <td>79.775152</td>\n",
              "    </tr>\n",
              "    <tr>\n",
              "      <th>1</th>\n",
              "      <td>20.784951</td>\n",
              "      <td>23.177279</td>\n",
              "    </tr>\n",
              "    <tr>\n",
              "      <th>2</th>\n",
              "      <td>21.785950</td>\n",
              "      <td>25.609262</td>\n",
              "    </tr>\n",
              "    <tr>\n",
              "      <th>3</th>\n",
              "      <td>19.783951</td>\n",
              "      <td>17.857388</td>\n",
              "    </tr>\n",
              "    <tr>\n",
              "      <th>4</th>\n",
              "      <td>35.799940</td>\n",
              "      <td>41.849864</td>\n",
              "    </tr>\n",
              "    <tr>\n",
              "      <th>...</th>\n",
              "      <td>...</td>\n",
              "      <td>...</td>\n",
              "    </tr>\n",
              "    <tr>\n",
              "      <th>295</th>\n",
              "      <td>70.834915</td>\n",
              "      <td>68.545888</td>\n",
              "    </tr>\n",
              "    <tr>\n",
              "      <th>296</th>\n",
              "      <td>45.809933</td>\n",
              "      <td>47.334876</td>\n",
              "    </tr>\n",
              "    <tr>\n",
              "      <th>297</th>\n",
              "      <td>54.818927</td>\n",
              "      <td>54.090637</td>\n",
              "    </tr>\n",
              "    <tr>\n",
              "      <th>298</th>\n",
              "      <td>61.825922</td>\n",
              "      <td>63.297171</td>\n",
              "    </tr>\n",
              "    <tr>\n",
              "      <th>299</th>\n",
              "      <td>46.810932</td>\n",
              "      <td>52.459467</td>\n",
              "    </tr>\n",
              "  </tbody>\n",
              "</table>\n",
              "<p>300 rows × 2 columns</p>\n",
              "</div>"
            ],
            "text/plain": [
              "             0          1\n",
              "0    76.840911  79.775152\n",
              "1    20.784951  23.177279\n",
              "2    21.785950  25.609262\n",
              "3    19.783951  17.857388\n",
              "4    35.799940  41.849864\n",
              "..         ...        ...\n",
              "295  70.834915  68.545888\n",
              "296  45.809933  47.334876\n",
              "297  54.818927  54.090637\n",
              "298  61.825922  63.297171\n",
              "299  46.810932  52.459467\n",
              "\n",
              "[300 rows x 2 columns]"
            ]
          },
          "metadata": {
            "tags": []
          },
          "execution_count": 90
        }
      ]
    },
    {
      "cell_type": "code",
      "metadata": {
        "colab": {
          "base_uri": "https://localhost:8080/"
        },
        "id": "9AN-42eRpc2R",
        "outputId": "40a11a78-2e9c-4549-f79f-c3374d667e60"
      },
      "source": [
        "r2_score(original,prediction)"
      ],
      "execution_count": null,
      "outputs": [
        {
          "output_type": "execute_result",
          "data": {
            "text/plain": [
              "0.9887052056307712"
            ]
          },
          "metadata": {
            "tags": []
          },
          "execution_count": 91
        }
      ]
    },
    {
      "cell_type": "code",
      "metadata": {
        "colab": {
          "base_uri": "https://localhost:8080/",
          "height": 282
        },
        "id": "pb0iRQA2qAu5",
        "outputId": "0699d66c-49e0-45b3-ef01-196b61791968"
      },
      "source": [
        "plt.scatter(test, original, color='red')\n",
        "plt.plot(X_train, regressor.predict(X_train),color='blue')"
      ],
      "execution_count": null,
      "outputs": [
        {
          "output_type": "execute_result",
          "data": {
            "text/plain": [
              "[<matplotlib.lines.Line2D at 0x7f88f09f4610>]"
            ]
          },
          "metadata": {
            "tags": []
          },
          "execution_count": 93
        },
        {
          "output_type": "display_data",
          "data": {
            "image/png": "[encoded data removed]",
            "text/plain": [
              "<Figure size 432x288 with 1 Axes>"
            ]
          },
          "metadata": {
            "tags": []
          }
        }
      ]
    },
    {
      "cell_type": "code",
      "metadata": {
        "id": "YH3eaqGWqO6G"
      },
      "source": [
        ""
      ],
      "execution_count": null,
      "outputs": []
    }
  ]
}